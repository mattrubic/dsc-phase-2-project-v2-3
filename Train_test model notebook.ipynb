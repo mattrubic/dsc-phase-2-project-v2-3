{
 "cells": [
  {
   "cell_type": "markdown",
   "metadata": {},
   "source": [
    "## Train and Test Model"
   ]
  },
  {
   "cell_type": "markdown",
   "metadata": {},
   "source": [
    "In this notebook, we train and test our model that we developed based upon our EDA, to verify that it is giving us a similar result for different samples of the same data"
   ]
  },
  {
   "cell_type": "code",
   "execution_count": 1,
   "metadata": {},
   "outputs": [],
   "source": [
    "#imports\n",
    "import pandas as pd\n",
    "from sklearn.preprocessing import OrdinalEncoder\n",
    "from sklearn.model_selection import cross_val_score\n",
    "from sklearn.linear_model import LinearRegression\n",
    "from sklearn.ensemble import RandomForestRegressor"
   ]
  },
  {
   "cell_type": "code",
   "execution_count": 2,
   "metadata": {},
   "outputs": [
    {
     "name": "stdout",
     "output_type": "stream",
     "text": [
      "<class 'pandas.core.frame.DataFrame'>\n",
      "RangeIndex: 21595 entries, 0 to 21594\n",
      "Data columns (total 18 columns):\n",
      " #   Column             Non-Null Count  Dtype  \n",
      "---  ------             --------------  -----  \n",
      " 0   price              21595 non-null  float64\n",
      " 1   bedrooms           21595 non-null  int64  \n",
      " 2   bathrooms          21595 non-null  float64\n",
      " 3   sqft_living        21595 non-null  int64  \n",
      " 4   sqft_lot           21595 non-null  int64  \n",
      " 5   floors             21595 non-null  float64\n",
      " 6   sqft_above         21595 non-null  int64  \n",
      " 7   yr_built           21595 non-null  int64  \n",
      " 8   yr_renovated       21595 non-null  float64\n",
      " 9   zipcode            21595 non-null  int64  \n",
      " 10  lat                21595 non-null  float64\n",
      " 11  long               21595 non-null  float64\n",
      " 12  sqft_living15      21595 non-null  int64  \n",
      " 13  sqft_lot15         21595 non-null  int64  \n",
      " 14  sqft_basment_calc  21595 non-null  int64  \n",
      " 15  grades             21595 non-null  float64\n",
      " 16  waterfront         21595 non-null  float64\n",
      " 17  condition          21595 non-null  float64\n",
      "dtypes: float64(9), int64(9)\n",
      "memory usage: 3.0 MB\n"
     ]
    }
   ],
   "source": [
    "#using our cleaned data from Data Cleaning notebook and verifying all data is numeric\n",
    "df_clean = pd.read_csv('data/cleaned_kc_house_data.csv')\n",
    "df_clean.info()"
   ]
  },
  {
   "cell_type": "code",
   "execution_count": 3,
   "metadata": {},
   "outputs": [],
   "source": [
    "#assign X and y to variables used for Linear Regression and price, respectively\n",
    "relevant_columns = [\n",
    "    'sqft_living',\n",
    "    'grades',\n",
    "    'condition',     \n",
    "    'waterfront',      \n",
    "    'sqft_basment_calc',  \n",
    "    'sqft_lot15', \n",
    "    'sqft_living15',    \n",
    "    'long', \n",
    "    'lat',   \n",
    "    'yr_renovated',     \n",
    "    'yr_built',  \n",
    "    'sqft_lot', \n",
    "    'floors',\n",
    "    'bathrooms',\n",
    "    'bedrooms',      \n",
    "]\n",
    "\n",
    "y = df_clean['price']\n",
    "X = df_clean.loc[:, relevant_columns]"
   ]
  },
  {
   "cell_type": "code",
   "execution_count": 4,
   "metadata": {},
   "outputs": [],
   "source": [
    "#split data into train and test sets randomly\n",
    "from sklearn.model_selection import train_test_split\n",
    "\n",
    "X_train, X_test, y_train, y_test = train_test_split(X, y, random_state=42)"
   ]
  },
  {
   "cell_type": "code",
   "execution_count": 5,
   "metadata": {},
   "outputs": [
    {
     "name": "stdout",
     "output_type": "stream",
     "text": [
      "X_train is a DataFrame with 16196 rows and 15 columns\n",
      "y_train is a Series with 16196 values\n"
     ]
    }
   ],
   "source": [
    "# Verify shapes of training data will be fit for modeling\n",
    "print(f\"X_train is a DataFrame with {X_train.shape[0]} rows and {X_train.shape[1]} columns\")\n",
    "print(f\"y_train is a Series with {y_train.shape[0]} values\")\n",
    "\n",
    "# We always should have the same number of rows in X as values in y\n",
    "assert X_train.shape[0] == y_train.shape[0]"
   ]
  },
  {
   "cell_type": "code",
   "execution_count": 6,
   "metadata": {},
   "outputs": [
    {
     "data": {
      "text/plain": [
       "array([0.67768467, 0.69474781, 0.68082473])"
      ]
     },
     "execution_count": 6,
     "metadata": {},
     "output_type": "execute_result"
    }
   ],
   "source": [
    "#run linear regression of training data\n",
    "model = LinearRegression()\n",
    "model.fit(X_train, y_train)\n",
    "\n",
    "cross_val_score(model, X_train, y_train, cv=3)"
   ]
  },
  {
   "cell_type": "code",
   "execution_count": 7,
   "metadata": {},
   "outputs": [
    {
     "data": {
      "text/plain": [
       "0.6893386927222527"
      ]
     },
     "execution_count": 7,
     "metadata": {},
     "output_type": "execute_result"
    }
   ],
   "source": [
    "#run linear regression of test data\n",
    "model.fit(X_test, y_test)\n",
    "model.score(X_test, y_test)"
   ]
  },
  {
   "cell_type": "markdown",
   "metadata": {},
   "source": [
    "Resulting r-squared values of our train and test data indicate that they performed similarly. Interestingly, test data explained slightly more variance in price than training data did. Because our model is performing similarly for different samples of the whole dataset, we can move forward and feel confident in using it to explain variance in price with the chosen independent variables."
   ]
  },
  {
   "cell_type": "markdown",
   "metadata": {},
   "source": [
    "**Random Forest Regression**"
   ]
  },
  {
   "cell_type": "markdown",
   "metadata": {},
   "source": [
    "We suspect that with the data in our dataset, a Random Forest Regression may be able to better predict price than a linear regression. This is due to factors such as location (lat&long), which clearly affect price, but do not relate to it in a linear way. So we run a Random Forest Regression as an experiment. We include all original data columns in this regression."
   ]
  },
  {
   "cell_type": "code",
   "execution_count": 8,
   "metadata": {},
   "outputs": [
    {
     "name": "stdout",
     "output_type": "stream",
     "text": [
      "Training set score: 0.98\n",
      "Test set score: 0.88\n"
     ]
    }
   ],
   "source": [
    "y = df_clean['price']\n",
    "X = df_clean.drop('price', axis = 1)\n",
    "\n",
    "X_train, X_test, y_train, y_test = train_test_split(X, y, random_state=42)\n",
    "\n",
    "lr = RandomForestRegressor(n_estimators=15)\n",
    "lr.fit(X_train, y_train)\n",
    "\n",
    "print(\"Training set score: {:.2f}\".format(lr.score(X_train, y_train)))\n",
    "print(\"Test set score: {:.2f}\".format(lr.score(X_test, y_test)))"
   ]
  },
  {
   "cell_type": "markdown",
   "metadata": {},
   "source": [
    "The Random Forest regression explains much more of the variance in price, but we opt not to use it because this is a project based on using linear regression to build explanatory models. However, in a different context we would use a Random Forest regression to understand the factors contributing to price to a greater degree."
   ]
  },
  {
   "cell_type": "markdown",
   "metadata": {},
   "source": [
    "## High budget model"
   ]
  },
  {
   "cell_type": "markdown",
   "metadata": {},
   "source": [
    "Over the course of our project, we changed our business problem and decided to look at what variables contributed to the prices of high value houses rather than all houses in the dataset. We defined high value houses as houses with a sale price of \\\\$800,000 or greater. \n",
    "\n",
    "Other than the sample of houses, the steps that we took to perform analysis and build our model were the same. We recreate that model for just this sample below."
   ]
  },
  {
   "cell_type": "code",
   "execution_count": 9,
   "metadata": {},
   "outputs": [],
   "source": [
    "target_df = df_clean.loc[df_clean['price'] >= 800000]"
   ]
  },
  {
   "cell_type": "code",
   "execution_count": 10,
   "metadata": {},
   "outputs": [
    {
     "data": {
      "text/plain": [
       "array([0.52583095, 0.51695284, 0.54535075])"
      ]
     },
     "execution_count": 10,
     "metadata": {},
     "output_type": "execute_result"
    }
   ],
   "source": [
    "y = target_df['price']\n",
    "X = target_df.loc[:, relevant_columns]\n",
    "\n",
    "X_train, X_test, y_train, y_test = train_test_split(X, y, random_state=42)\n",
    "\n",
    "model = LinearRegression()\n",
    "model.fit(X_train, y_train)\n",
    "\n",
    "cross_val_score(model, X_train, y_train, cv=3)"
   ]
  },
  {
   "cell_type": "code",
   "execution_count": 11,
   "metadata": {},
   "outputs": [
    {
     "data": {
      "text/plain": [
       "0.5383712985216296"
      ]
     },
     "execution_count": 11,
     "metadata": {},
     "output_type": "execute_result"
    }
   ],
   "source": [
    "model.fit(X_test, y_test)\n",
    "model.score(X_test, y_test)"
   ]
  },
  {
   "cell_type": "markdown",
   "metadata": {},
   "source": [
    "Resulting r-squared values of our train and test data indicate that they performed similarly. Interestingly, test data explained slightly more variance in price than training data did. Because our model is performing similarly for different samples of the whole dataset, we can move forward and feel confident in using it to explain variance in price with the chosen independent variables."
   ]
  }
 ],
 "metadata": {
  "kernelspec": {
   "display_name": "Python 3",
   "language": "python",
   "name": "python3"
  },
  "language_info": {
   "codemirror_mode": {
    "name": "ipython",
    "version": 3
   },
   "file_extension": ".py",
   "mimetype": "text/x-python",
   "name": "python",
   "nbconvert_exporter": "python",
   "pygments_lexer": "ipython3",
   "version": "3.8.5"
  }
 },
 "nbformat": 4,
 "nbformat_minor": 2
}
