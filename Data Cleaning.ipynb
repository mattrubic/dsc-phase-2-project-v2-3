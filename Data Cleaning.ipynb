{
 "cells": [
  {
   "cell_type": "code",
   "execution_count": 2,
   "metadata": {},
   "outputs": [],
   "source": [
    "import pandas as pd\n",
    "from sklearn.preprocessing import OrdinalEncoder\n",
    "df = pd.read_csv('data/kc_house_data.csv')"
   ]
  },
  {
   "cell_type": "code",
   "execution_count": 3,
   "metadata": {},
   "outputs": [],
   "source": [
    "df['sqft_basment_calc'] = df['sqft_living'] - df['sqft_above']"
   ]
  },
  {
   "cell_type": "code",
   "execution_count": 4,
   "metadata": {},
   "outputs": [],
   "source": [
    "df = df.drop('view', axis=1)"
   ]
  },
  {
   "cell_type": "code",
   "execution_count": 5,
   "metadata": {},
   "outputs": [],
   "source": [
    "df[\"waterfront\"] = df[\"waterfront\"].fillna(\"Unknown\")"
   ]
  },
  {
   "cell_type": "code",
   "execution_count": 6,
   "metadata": {},
   "outputs": [],
   "source": [
    "df[\"yr_renovated\"] = df[\"yr_renovated\"].fillna(1)"
   ]
  },
  {
   "cell_type": "code",
   "execution_count": 7,
   "metadata": {},
   "outputs": [
    {
     "data": {
      "text/plain": [
       "array([[4.],\n",
       "       [4.],\n",
       "       [3.],\n",
       "       ...,\n",
       "       [4.],\n",
       "       [5.],\n",
       "       [4.]])"
      ]
     },
     "execution_count": 7,
     "metadata": {},
     "output_type": "execute_result"
    }
   ],
   "source": [
    "grades = df[['grade']]\n",
    "categories = [['3 Poor', '4 Low', '5 Fair', '6 Low Average', '7 Average', '8 Good', '9 Better', '10 Very Good', '11 Excellent', '12 Luxury', '13 Mansion']]\n",
    "ords = OrdinalEncoder(categories=categories)\n",
    "ords.fit(grades)\n",
    "ords.transform(grades)"
   ]
  },
  {
   "cell_type": "code",
   "execution_count": 8,
   "metadata": {},
   "outputs": [],
   "source": [
    "grades_encoded = pd.DataFrame(\n",
    " \n",
    "    ords.transform(grades),\n",
    "    \n",
    "    index=df.index\n",
    ")"
   ]
  },
  {
   "cell_type": "code",
   "execution_count": 9,
   "metadata": {},
   "outputs": [],
   "source": [
    "df.drop('grade', axis=1, inplace=True)"
   ]
  },
  {
   "cell_type": "code",
   "execution_count": 10,
   "metadata": {},
   "outputs": [],
   "source": [
    "df = pd.concat([df, grades_encoded], axis=1)"
   ]
  },
  {
   "cell_type": "code",
   "execution_count": 11,
   "metadata": {},
   "outputs": [],
   "source": [
    "df['grades'] = df[0]"
   ]
  },
  {
   "cell_type": "code",
   "execution_count": 12,
   "metadata": {},
   "outputs": [],
   "source": [
    "df.drop(0, axis=1, inplace=True)"
   ]
  },
  {
   "cell_type": "code",
   "execution_count": 13,
   "metadata": {},
   "outputs": [
    {
     "data": {
      "text/plain": [
       "array([[1.],\n",
       "       [0.],\n",
       "       [0.],\n",
       "       ...,\n",
       "       [0.],\n",
       "       [1.],\n",
       "       [0.]])"
      ]
     },
     "execution_count": 13,
     "metadata": {},
     "output_type": "execute_result"
    }
   ],
   "source": [
    "waterfront_e = df[['waterfront']]\n",
    "categories1 = [['NO', 'Unknown', 'YES']]\n",
    "ords1 = OrdinalEncoder(categories=categories1)\n",
    "ords1.fit(waterfront_e)\n",
    "ords1.transform(waterfront_e)"
   ]
  },
  {
   "cell_type": "code",
   "execution_count": 14,
   "metadata": {},
   "outputs": [],
   "source": [
    "waterfront_encoded = pd.DataFrame(\n",
    "   \n",
    "    ords1.transform(waterfront_e),\n",
    "\n",
    "    index=df.index\n",
    ")"
   ]
  },
  {
   "cell_type": "code",
   "execution_count": 15,
   "metadata": {},
   "outputs": [],
   "source": [
    "df.drop('waterfront', axis=1, inplace=True)\n",
    "df = pd.concat([df, waterfront_encoded], axis=1)"
   ]
  },
  {
   "cell_type": "code",
   "execution_count": 16,
   "metadata": {},
   "outputs": [],
   "source": [
    "df['waterfront'] = df[0]\n",
    "df.drop(0, axis=1, inplace=True)"
   ]
  },
  {
   "cell_type": "code",
   "execution_count": 17,
   "metadata": {},
   "outputs": [
    {
     "data": {
      "text/plain": [
       "array([[2.],\n",
       "       [2.],\n",
       "       [2.],\n",
       "       ...,\n",
       "       [2.],\n",
       "       [2.],\n",
       "       [2.]])"
      ]
     },
     "execution_count": 17,
     "metadata": {},
     "output_type": "execute_result"
    }
   ],
   "source": [
    "conditions_e = df[['condition']]\n",
    "categories2 = [['Poor', 'Fair', 'Average', 'Good', 'Very Good']]\n",
    "ords2 = OrdinalEncoder(categories=categories2)\n",
    "ords2.fit(conditions_e)\n",
    "ords2.transform(conditions_e)"
   ]
  },
  {
   "cell_type": "code",
   "execution_count": 18,
   "metadata": {},
   "outputs": [],
   "source": [
    "conditions_encoded = pd.DataFrame(\n",
    "    \n",
    "    ords2.transform(conditions_e),\n",
    "\n",
    "    index=df.index\n",
    ")\n"
   ]
  },
  {
   "cell_type": "code",
   "execution_count": 19,
   "metadata": {},
   "outputs": [],
   "source": [
    "df.drop('condition', axis=1, inplace=True)\n",
    "df = pd.concat([df, conditions_encoded], axis=1)"
   ]
  },
  {
   "cell_type": "code",
   "execution_count": 20,
   "metadata": {},
   "outputs": [
    {
     "name": "stdout",
     "output_type": "stream",
     "text": [
      "<class 'pandas.core.frame.DataFrame'>\n",
      "RangeIndex: 21597 entries, 0 to 21596\n",
      "Data columns (total 21 columns):\n",
      " #   Column             Non-Null Count  Dtype  \n",
      "---  ------             --------------  -----  \n",
      " 0   id                 21597 non-null  int64  \n",
      " 1   date               21597 non-null  object \n",
      " 2   price              21597 non-null  float64\n",
      " 3   bedrooms           21597 non-null  int64  \n",
      " 4   bathrooms          21597 non-null  float64\n",
      " 5   sqft_living        21597 non-null  int64  \n",
      " 6   sqft_lot           21597 non-null  int64  \n",
      " 7   floors             21597 non-null  float64\n",
      " 8   sqft_above         21597 non-null  int64  \n",
      " 9   sqft_basement      21597 non-null  object \n",
      " 10  yr_built           21597 non-null  int64  \n",
      " 11  yr_renovated       21597 non-null  float64\n",
      " 12  zipcode            21597 non-null  int64  \n",
      " 13  lat                21597 non-null  float64\n",
      " 14  long               21597 non-null  float64\n",
      " 15  sqft_living15      21597 non-null  int64  \n",
      " 16  sqft_lot15         21597 non-null  int64  \n",
      " 17  sqft_basment_calc  21597 non-null  int64  \n",
      " 18  grades             21597 non-null  float64\n",
      " 19  waterfront         21597 non-null  float64\n",
      " 20  condition          21597 non-null  float64\n",
      "dtypes: float64(9), int64(10), object(2)\n",
      "memory usage: 3.5+ MB\n"
     ]
    }
   ],
   "source": [
    "df['condition'] = df[0]\n",
    "df.drop(0, axis=1, inplace=True)\n",
    "df.info()"
   ]
  },
  {
   "cell_type": "code",
   "execution_count": 21,
   "metadata": {},
   "outputs": [],
   "source": [
    "df.drop('date', axis=1, inplace=True)\n",
    "df.drop('sqft_basement', axis=1, inplace=True)\n",
    "df.drop('id', axis=1, inplace=True)"
   ]
  },
  {
   "cell_type": "code",
   "execution_count": 22,
   "metadata": {},
   "outputs": [
    {
     "name": "stdout",
     "output_type": "stream",
     "text": [
      "<class 'pandas.core.frame.DataFrame'>\n",
      "RangeIndex: 21597 entries, 0 to 21596\n",
      "Data columns (total 18 columns):\n",
      " #   Column             Non-Null Count  Dtype  \n",
      "---  ------             --------------  -----  \n",
      " 0   price              21597 non-null  float64\n",
      " 1   bedrooms           21597 non-null  int64  \n",
      " 2   bathrooms          21597 non-null  float64\n",
      " 3   sqft_living        21597 non-null  int64  \n",
      " 4   sqft_lot           21597 non-null  int64  \n",
      " 5   floors             21597 non-null  float64\n",
      " 6   sqft_above         21597 non-null  int64  \n",
      " 7   yr_built           21597 non-null  int64  \n",
      " 8   yr_renovated       21597 non-null  float64\n",
      " 9   zipcode            21597 non-null  int64  \n",
      " 10  lat                21597 non-null  float64\n",
      " 11  long               21597 non-null  float64\n",
      " 12  sqft_living15      21597 non-null  int64  \n",
      " 13  sqft_lot15         21597 non-null  int64  \n",
      " 14  sqft_basment_calc  21597 non-null  int64  \n",
      " 15  grades             21597 non-null  float64\n",
      " 16  waterfront         21597 non-null  float64\n",
      " 17  condition          21597 non-null  float64\n",
      "dtypes: float64(9), int64(9)\n",
      "memory usage: 3.0 MB\n"
     ]
    }
   ],
   "source": [
    "df.info()"
   ]
  },
  {
   "cell_type": "code",
   "execution_count": 23,
   "metadata": {},
   "outputs": [],
   "source": [
    "df.to_csv('cleaned_kc_house_data.csv', index=False)"
   ]
  }
 ],
 "metadata": {
  "kernelspec": {
   "display_name": "Python 3",
   "language": "python",
   "name": "python3"
  },
  "language_info": {
   "codemirror_mode": {
    "name": "ipython",
    "version": 3
   },
   "file_extension": ".py",
   "mimetype": "text/x-python",
   "name": "python",
   "nbconvert_exporter": "python",
   "pygments_lexer": "ipython3",
   "version": "3.8.5"
  }
 },
 "nbformat": 4,
 "nbformat_minor": 2
}
